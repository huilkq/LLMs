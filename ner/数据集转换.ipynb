{
 "cells": [
  {
   "cell_type": "code",
   "execution_count": 11,
   "id": "38edbad0-1ef2-4d45-bec2-a10665fce681",
   "metadata": {},
   "outputs": [],
   "source": [
    "PROMPT='''You are an expert with a deep background in the field of material informatics, \\\n",
    "focusing on extracting material entities and related information from textual data.\n",
    "You are tasked with performing a Named Entity Recognition (NER) operation on the provided text.\n",
    "Your goal is to identify and extract entities according to the specific categories related to the study of materials science.\n",
    "Let's work this out in a step by step way tobe sure we have the right answer.\n",
    "\n",
    "All entity types including their detailed definition are listed as follow.\n",
    "### Definition:\n",
    "## Entity:\n",
    "- MAT: Any inorganic solid or alloy, any non-gaseous element (at RT), e.g., \"BaTiO3\", \"titania\", \"Fe\".\n",
    "- SPL: Names for crystal structures/phases, e.g., \"tetragonal\", \"fcc\", \"rutile\",\"perovskite\"; or, any symmetry label such as \"Pbnm\", or \"Pnma\".\n",
    "- DSC: Special descriptions of the type/shape of the sample. Examples include \"single crystal\", \"nanotube\", \"quantum dot\".\n",
    "- PRO: Anything measurable that can have a unit and a value, e.g., \"conductivity\", “band gap”; or, any qualitative property or phenomenon exhibited by a material, e.g., \"ferroelectric\", \"metallic\".\n",
    "- APL: Any high-level application such as \"photovoltaics\", or any specific device such as “field-effect transistor”.\n",
    "- SMT: Any technique for synthesising a material, e.g., \"pulsed laser deposition\", \"solid state reaction\", or any other step in sample production such as \"annealing\" or \"etching\".\n",
    "- CMT: Any method used to characterize a material, experiment or theory: e.g., \"photoluminescence\", \"XRD\", \"tight binding\", \"DFT\". It can also be a name for an equation or model, such \"Bethe-Salpeter equation\".\n",
    "\n",
    "### Notice:\n",
    "1. Each line of the output must be a valid JSON string.\n",
    "2. If no entities are detected, the output should state '[]'.\n",
    "3. Some extracted terms may not be classified into 'MAT', 'SPL', 'DSC', 'PRO', 'SMT', 'CMT',or 'APL'. \\\n",
    "In this case, discard these words and focus on the specified entities.\n",
    "\n",
    "### Output format\n",
    "## Entity Representation:\n",
    "- Respond in the format of [('entity type', 'entity name'),...].\n",
    "- The extracted entity name must be the same as in the original text.\n",
    "\n",
    "## Your output should be a single JSON object in the following format:\n",
    "{{\n",
    "  \"entities\": \"[('entity type', 'entity name')]\",\n",
    "  \"reasons\":\"Give your reasons.\"\n",
    "}}'''"
   ]
  },
  {
   "cell_type": "code",
   "execution_count": 24,
   "id": "437bf815-e8d7-4d86-87a0-c41e38edb562",
   "metadata": {},
   "outputs": [
    {
     "name": "stdout",
     "output_type": "stream",
     "text": [
      "转换结果已保存到 llm_微调/Metal/devel.json\n"
     ]
    }
   ],
   "source": [
    "import json\n",
    "\n",
    "# 读取输入文本文件\n",
    "input_file = 'llm_微调/Metal/devel.txt'\n",
    "output_file = 'llm_微调/Metal/devel.json'\n",
    "\n",
    "def convert_to_specified_format(text):\n",
    "    paragraphs = text.strip().split('\\n\\n')\n",
    "    results = []\n",
    "\n",
    "    for paragraph in paragraphs:\n",
    "        lines = paragraph.strip().split('\\n')\n",
    "        sentence = []\n",
    "        entities = []\n",
    "        current_entity = []\n",
    "        current_label = None\n",
    "\n",
    "        for line in lines:\n",
    "            if not line.strip():\n",
    "                continue\n",
    "\n",
    "            parts = line.split()\n",
    "            if len(parts) != 2:\n",
    "                continue\n",
    "\n",
    "            word, label = parts\n",
    "\n",
    "            sentence.append(word)\n",
    "\n",
    "            if label == 'O':\n",
    "                if current_entity:\n",
    "                    entities.append({\"entity_text\": \" \".join(current_entity), \"entity_label\": current_label})\n",
    "                    current_entity = []\n",
    "                    current_label = None\n",
    "            else:\n",
    "                if label.startswith('B-'):\n",
    "                    if current_entity:\n",
    "                        entities.append({\"entity_text\": \" \".join(current_entity), \"entity_label\": current_label})\n",
    "                    current_entity = [word]\n",
    "                    current_label = label[2:]\n",
    "                elif label.startswith('I-') and current_entity:\n",
    "                    current_entity.append(word)\n",
    "                else:\n",
    "                    if current_entity:\n",
    "                        entities.append({\"entity_text\": \" \".join(current_entity), \"entity_label\": current_label})\n",
    "                    current_entity = []\n",
    "                    current_label = None\n",
    "                    sentence.append(word)\n",
    "\n",
    "        if current_entity:\n",
    "            entities.append({\"entity_text\": \" \".join(current_entity), \"entity_label\": current_label})\n",
    "\n",
    "        input_text = \" \".join(sentence)\n",
    "        \n",
    "        output = [\n",
    "            (entity[\"entity_label\"], entity[\"entity_text\"])\n",
    "            for entity in entities\n",
    "        ]  # 生成一个元组列表\n",
    "\n",
    "        # 将 output 转换为字符串格式\n",
    "        output_str = str(output)\n",
    "\n",
    "        result = {\n",
    "            \"instruction\": PROMPT,\n",
    "            \"input\": f\"text:{input_text}\",\n",
    "            \"output\": output_str  # 使用字符串表示元组列表\n",
    "        }\n",
    "        results.append(result)\n",
    "\n",
    "    with open(output_file, \"w\", encoding=\"utf-8\") as file:\n",
    "        for message in results:\n",
    "            file.write(json.dumps(message, ensure_ascii=False) + \"\\n\")\n",
    "\n",
    "with open(input_file, 'r', encoding='utf-8') as file:\n",
    "    input_text = file.read()\n",
    "\n",
    "# 转换格式\n",
    "convert_to_specified_format(input_text)\n",
    "\n",
    "print(f\"转换结果已保存到 {output_file}\")"
   ]
  },
  {
   "cell_type": "markdown",
   "id": "f414edf3-f9ab-4ce7-8cf9-c7b2bc245142",
   "metadata": {},
   "source": [
    "## MPNs数据集转换"
   ]
  },
  {
   "cell_type": "code",
   "execution_count": 25,
   "id": "7ce37955-9930-4f21-9f80-3bcc6831eb0a",
   "metadata": {},
   "outputs": [],
   "source": [
    "import pandas as pd\n",
    "\n",
    "with open(\"llm_微调/MPNs/train.json\", 'r', encoding='utf-8') as f:\n",
    "    input_data = [json.loads(line) for line in f]"
   ]
  },
  {
   "cell_type": "code",
   "execution_count": null,
   "id": "db4a8517-2330-48ad-b5c9-6d9dbb51aba2",
   "metadata": {},
   "outputs": [],
   "source": [
    "input_data"
   ]
  },
  {
   "cell_type": "code",
   "execution_count": 35,
   "id": "49ba14d9-17b0-483f-af7b-220e24042da6",
   "metadata": {},
   "outputs": [
    {
     "name": "stdout",
     "output_type": "stream",
     "text": [
      "数据已成功保存到 converted_output.json\n"
     ]
    }
   ],
   "source": [
    "import json\n",
    "\n",
    "# 定义转换函数\n",
    "def convert_to_specified_format(examples):\n",
    "    converted_list = []\n",
    "    for example in examples:\n",
    "        # 解析句子和实体\n",
    "        sentence = example['sentences'][0]\n",
    "        entities = example.get('ner', [])\n",
    "        formatted_entities = []\n",
    "\n",
    "        # 遍历实体并格式化\n",
    "        for entity in entities:\n",
    "            for start_idx, end_idx, label in entity:\n",
    "                entity_text = ' '.join(sentence[start_idx:end_idx+1])\n",
    "                formatted_entities.append((label, entity_text))\n",
    "\n",
    "        # 构建输出字典\n",
    "        output_dict = {\n",
    "            \"instruction\": \"根据文本数据执行命名实体识别任务。\",\n",
    "            \"input\": f\"text:'{' '.join(sentence)}'\",\n",
    "            \"output\": json.dumps(formatted_entities, ensure_ascii=False),\n",
    "        }\n",
    "        converted_list.append(output_dict)\n",
    "\n",
    "    return converted_list\n",
    "\n",
    "# 执行转换\n",
    "converted_data = convert_to_specified_format(input_data)\n",
    "\n",
    "# 将转换后的数据写入JSON文件\n",
    "with open('llm_微调/MPNs/converted_train.json', 'w', encoding='utf-8') as json_file:\n",
    "    json.dump(converted_data, json_file, ensure_ascii=False, indent=4)\n",
    "\n",
    "print(\"数据已成功保存到 converted_output.json\")"
   ]
  },
  {
   "cell_type": "code",
   "execution_count": null,
   "id": "b2ffca82-8ff0-4b81-b00b-912524b2d223",
   "metadata": {},
   "outputs": [],
   "source": []
  }
 ],
 "metadata": {
  "kernelspec": {
   "display_name": "langchain",
   "language": "python",
   "name": "langchain"
  },
  "language_info": {
   "codemirror_mode": {
    "name": "ipython",
    "version": 3
   },
   "file_extension": ".py",
   "mimetype": "text/x-python",
   "name": "python",
   "nbconvert_exporter": "python",
   "pygments_lexer": "ipython3",
   "version": "3.8.8"
  }
 },
 "nbformat": 4,
 "nbformat_minor": 5
}
