{
 "cells": [
  {
   "cell_type": "markdown",
   "id": "de53995b-32ed-4722-8cac-ba104c8efacb",
   "metadata": {},
   "source": [
    "# 导入环境"
   ]
  },
  {
   "cell_type": "code",
   "execution_count": 1,
   "id": "52fac949-4150-4091-b0c3-2968ab5e385c",
   "metadata": {
    "tags": []
   },
   "outputs": [],
   "source": [
    "from datasets import Dataset\n",
    "import pandas as pd\n",
    "import torch\n",
    "from transformers import AutoModelForCausalLM, DataCollatorForSeq2Seq, TrainingArguments, Trainer, GenerationConfig\n",
    "from modelscope import snapshot_download, AutoTokenizer"
   ]
  },
  {
   "cell_type": "code",
   "execution_count": 2,
   "id": "e098d9eb",
   "metadata": {
    "tags": []
   },
   "outputs": [],
   "source": [
    "# 1.将train.jsonl和test.jsonl进行处理，转换成new_train.jsonl和new_test.jsonl\n",
    "# 加载、处理数据集和测试集\n",
    "# 加载、处理数据集和测试集\n",
    "train_jsonl_new_path = 'Metal/train.json'\n",
    "devel_jsonl_new_path = 'Metal/devel.json'\n",
    "test_jsonl_new_path = 'Metal/test.json'\n",
    "\n",
    "# 得到训练集和验证集\n",
    "train_df = pd.read_json(train_jsonl_new_path, lines=True)\n",
    "val_df = pd.read_json(devel_jsonl_new_path , lines=True)\n",
    "test_df = pd.read_json(test_jsonl_new_path , lines=True)\n",
    "train_ds = Dataset.from_pandas(train_df)\n",
    "val_ds = Dataset.from_pandas(val_df)\n",
    "test_ds = Dataset.from_pandas(test_df)"
   ]
  },
  {
   "cell_type": "code",
   "execution_count": 3,
   "id": "8ac92d42-efae-49b1-a00e-ccaa75b98938",
   "metadata": {
    "tags": []
   },
   "outputs": [
    {
     "data": {
      "text/plain": [
       "{'instruction': ['You are an expert with a deep background in the field of material informatics, focusing on extracting material entities and related information from textual data.\\nYou are tasked with performing a Named Entity Recognition (NER) operation on the provided text.\\nYour goal is to identify and extract entities according to the specific categories related to the study of materials science.\\nLet\\'s work this out in a step by step way tobe sure we have the right answer.\\n\\nAll entity types including their detailed definition are listed as follow.\\n### Definition:\\n## Entity:\\n- MAT: Any inorganic solid or alloy, any non-gaseous element (at RT), e.g., \"BaTiO3\", \"titania\", \"Fe\".\\n- SPL: Names for crystal structures/phases, e.g., \"tetragonal\", \"fcc\", \"rutile\",\"perovskite\"; or, any symmetry label such as \"Pbnm\", or \"Pnma\".\\n- DSC: Special descriptions of the type/shape of the sample. Examples include \"single crystal\", \"nanotube\", \"quantum dot\".\\n- PRO: Anything measurable that can have a unit and a value, e.g., \"conductivity\", “band gap”; or, any qualitative property or phenomenon exhibited by a material, e.g., \"ferroelectric\", \"metallic\".\\n- APL: Any high-level application such as \"photovoltaics\", or any specific device such as “field-effect transistor”.\\n- SMT: Any technique for synthesising a material, e.g., \"pulsed laser deposition\", \"solid state reaction\", or any other step in sample production such as \"annealing\" or \"etching\".\\n- CMT: Any method used to characterize a material, experiment or theory: e.g., \"photoluminescence\", \"XRD\", \"tight binding\", \"DFT\". It can also be a name for an equation or model, such \"Bethe-Salpeter equation\".\\n\\n### Notice:\\n1. Each line of the output must be a valid JSON string.\\n2. If no entities are detected, the output should state \\'[]\\'.\\n3. Some extracted terms may not be classified into \\'MAT\\', \\'SPL\\', \\'DSC\\', \\'PRO\\', \\'SMT\\', \\'CMT\\',or \\'APL\\'. In this case, discard these words and focus on the specified entities.\\n\\n### Output format\\n## Entity Representation:\\n- Respond in the format of [(\\'entity type\\', \\'entity name\\'),...].\\n- The extracted entity name must be the same as in the original text.\\n\\n## Your output should be a single JSON object in the following format:\\n{{\\n  \"entities\": \"[(\\'entity type\\', \\'entity name\\')]\",\\n  \"reasons\":\"Give your reasons.\"\\n}}',\n",
       "  'You are an expert with a deep background in the field of material informatics, focusing on extracting material entities and related information from textual data.\\nYou are tasked with performing a Named Entity Recognition (NER) operation on the provided text.\\nYour goal is to identify and extract entities according to the specific categories related to the study of materials science.\\nLet\\'s work this out in a step by step way tobe sure we have the right answer.\\n\\nAll entity types including their detailed definition are listed as follow.\\n### Definition:\\n## Entity:\\n- MAT: Any inorganic solid or alloy, any non-gaseous element (at RT), e.g., \"BaTiO3\", \"titania\", \"Fe\".\\n- SPL: Names for crystal structures/phases, e.g., \"tetragonal\", \"fcc\", \"rutile\",\"perovskite\"; or, any symmetry label such as \"Pbnm\", or \"Pnma\".\\n- DSC: Special descriptions of the type/shape of the sample. Examples include \"single crystal\", \"nanotube\", \"quantum dot\".\\n- PRO: Anything measurable that can have a unit and a value, e.g., \"conductivity\", “band gap”; or, any qualitative property or phenomenon exhibited by a material, e.g., \"ferroelectric\", \"metallic\".\\n- APL: Any high-level application such as \"photovoltaics\", or any specific device such as “field-effect transistor”.\\n- SMT: Any technique for synthesising a material, e.g., \"pulsed laser deposition\", \"solid state reaction\", or any other step in sample production such as \"annealing\" or \"etching\".\\n- CMT: Any method used to characterize a material, experiment or theory: e.g., \"photoluminescence\", \"XRD\", \"tight binding\", \"DFT\". It can also be a name for an equation or model, such \"Bethe-Salpeter equation\".\\n\\n### Notice:\\n1. Each line of the output must be a valid JSON string.\\n2. If no entities are detected, the output should state \\'[]\\'.\\n3. Some extracted terms may not be classified into \\'MAT\\', \\'SPL\\', \\'DSC\\', \\'PRO\\', \\'SMT\\', \\'CMT\\',or \\'APL\\'. In this case, discard these words and focus on the specified entities.\\n\\n### Output format\\n## Entity Representation:\\n- Respond in the format of [(\\'entity type\\', \\'entity name\\'),...].\\n- The extracted entity name must be the same as in the original text.\\n\\n## Your output should be a single JSON object in the following format:\\n{{\\n  \"entities\": \"[(\\'entity type\\', \\'entity name\\')]\",\\n  \"reasons\":\"Give your reasons.\"\\n}}',\n",
       "  'You are an expert with a deep background in the field of material informatics, focusing on extracting material entities and related information from textual data.\\nYou are tasked with performing a Named Entity Recognition (NER) operation on the provided text.\\nYour goal is to identify and extract entities according to the specific categories related to the study of materials science.\\nLet\\'s work this out in a step by step way tobe sure we have the right answer.\\n\\nAll entity types including their detailed definition are listed as follow.\\n### Definition:\\n## Entity:\\n- MAT: Any inorganic solid or alloy, any non-gaseous element (at RT), e.g., \"BaTiO3\", \"titania\", \"Fe\".\\n- SPL: Names for crystal structures/phases, e.g., \"tetragonal\", \"fcc\", \"rutile\",\"perovskite\"; or, any symmetry label such as \"Pbnm\", or \"Pnma\".\\n- DSC: Special descriptions of the type/shape of the sample. Examples include \"single crystal\", \"nanotube\", \"quantum dot\".\\n- PRO: Anything measurable that can have a unit and a value, e.g., \"conductivity\", “band gap”; or, any qualitative property or phenomenon exhibited by a material, e.g., \"ferroelectric\", \"metallic\".\\n- APL: Any high-level application such as \"photovoltaics\", or any specific device such as “field-effect transistor”.\\n- SMT: Any technique for synthesising a material, e.g., \"pulsed laser deposition\", \"solid state reaction\", or any other step in sample production such as \"annealing\" or \"etching\".\\n- CMT: Any method used to characterize a material, experiment or theory: e.g., \"photoluminescence\", \"XRD\", \"tight binding\", \"DFT\". It can also be a name for an equation or model, such \"Bethe-Salpeter equation\".\\n\\n### Notice:\\n1. Each line of the output must be a valid JSON string.\\n2. If no entities are detected, the output should state \\'[]\\'.\\n3. Some extracted terms may not be classified into \\'MAT\\', \\'SPL\\', \\'DSC\\', \\'PRO\\', \\'SMT\\', \\'CMT\\',or \\'APL\\'. In this case, discard these words and focus on the specified entities.\\n\\n### Output format\\n## Entity Representation:\\n- Respond in the format of [(\\'entity type\\', \\'entity name\\'),...].\\n- The extracted entity name must be the same as in the original text.\\n\\n## Your output should be a single JSON object in the following format:\\n{{\\n  \"entities\": \"[(\\'entity type\\', \\'entity name\\')]\",\\n  \"reasons\":\"Give your reasons.\"\\n}}'],\n",
       " 'input': ['text:variable temperature electron paramagnetic resonance studies of the NiZn ferrite / O2Si nanocomposite',\n",
       "  'text:effects of the silica content and temperature on the magnetic properties of Fe4NiO8Zn / O2Si nanocomposites have been studied by electron paramagnetic resonance ( EPR ) technique .',\n",
       "  'text:the peak - to - peak linewidth ( DHPP ) , g factor and spin number ( NS ) , measured at room temperature , decreased with increasing O2Si content , while the spin – spin relaxation time ( T2 ) increased .'],\n",
       " 'output': [\"[('CMT', 'electron paramagnetic resonance'), ('MAT', 'NiZn ferrite'), ('MAT', 'O2Si'), ('DSC', 'nanocomposite')]\",\n",
       "  \"[('MAT', 'silica'), ('PRO', 'magnetic properties'), ('MAT', 'Fe4NiO8Zn'), ('MAT', 'O2Si'), ('DSC', 'nanocomposites'), ('CMT', 'electron paramagnetic resonance'), ('CMT', 'EPR')]\",\n",
       "  \"[('PRO', 'peak - to - peak linewidth'), ('PRO', 'DHPP'), ('PRO', 'g factor'), ('PRO', 'spin number'), ('PRO', 'NS'), ('MAT', 'O2Si'), ('PRO', 'spin – spin relaxation time'), ('PRO', 'T2')]\"]}"
      ]
     },
     "execution_count": 3,
     "metadata": {},
     "output_type": "execute_result"
    }
   ],
   "source": [
    "train_ds[:3]"
   ]
  },
  {
   "cell_type": "markdown",
   "id": "51d05e5d-d14e-4f03-92be-9a9677d41918",
   "metadata": {},
   "source": [
    "# 处理数据集"
   ]
  },
  {
   "cell_type": "code",
   "execution_count": 4,
   "id": "74ee5a67-2e55-4974-b90e-cbf492de500a",
   "metadata": {
    "tags": []
   },
   "outputs": [
    {
     "name": "stderr",
     "output_type": "stream",
     "text": [
      "Special tokens have been added in the vocabulary, make sure the associated word embeddings are fine-tuned or trained.\n"
     ]
    }
   ],
   "source": [
    "model_id = \"qwen/Qwen2-7B-Instruct\"    \n",
    "model_dir = \"./qwen/Qwen2-7B-Instruct\"\n",
    "\n",
    "# 在modelscope上下载Qwen模型到本地目录下\n",
    "model_dir = snapshot_download(model_id, cache_dir=\"./\", revision=\"master\")\n",
    "# Transformers加载模型权重\n",
    "tokenizer = AutoTokenizer.from_pretrained(model_dir, use_fast=False, trust_remote_code=True)"
   ]
  },
  {
   "cell_type": "code",
   "execution_count": 5,
   "id": "1cb52676-8a3a-4209-ab41-f26d3c459a62",
   "metadata": {},
   "outputs": [],
   "source": [
    "PROMPT_TEMPLATE=\"\"\"You are an expert with a deep background in the field of material informatics, \\\n",
    "focusing on extracting material entities and related information from textual data.\n",
    "You are tasked with performing a Named Entity Recognition (NER) operation on the provided text.\n",
    "Your goal is to identify and extract entities according to the specific categories related to the study of materials science.\n",
    "Let's work this out in a step by step way tobe sure we have the right answer.\n",
    "\n",
    "All entity types including their detailed definition are listed as follow.\n",
    "### Definition:\n",
    "## Entity:\n",
    "- MAT: Any inorganic solid or alloy, any non-gaseous element (at RT), e.g., \"BaTiO3\", \"titania\", \"Fe\".\n",
    "- SPL: Names for crystal structures/phases, e.g., \"tetragonal\", \"fcc\", \"rutile\",\"perovskite\"; or, any symmetry label such as \"Pbnm\", or \"Pnma\".\n",
    "- DSC: Special descriptions of the type/shape of the sample. Examples include \"single crystal\", \"nanotube\", \"quantum dot\".\n",
    "- PRO: Anything measurable that can have a unit and a value, e.g., \"conductivity\", “band gap”; or, any qualitative property or phenomenon exhibited by a material, e.g., \"ferroelectric\", \"metallic\".\n",
    "- APL: Any high-level application such as \"photovoltaics\", or any specific device such as “field-effect transistor”.\n",
    "- SMT: Any technique for synthesising a material, e.g., \"pulsed laser deposition\", \"solid state reaction\", or any other step in sample production such as \"annealing\" or \"etching\".\n",
    "- CMT: Any method used to characterize a material, experiment or theory: e.g., \"photoluminescence\", \"XRD\", \"tight binding\", \"DFT\". It can also be a name for an equation or model, such \"Bethe-Salpeter equation\".\n",
    "\n",
    "### Notice:\n",
    "1. Each line of the output must be a valid JSON string.\n",
    "2. If no entities are detected, the output should state '[]'.\n",
    "3. Some extracted terms may not be classified into 'MAT', 'SPL', 'DSC', 'PRO', 'SMT', 'CMT',or 'APL'. In this case, discard these words and focus on the specified entities.\n",
    "\"\"\""
   ]
  },
  {
   "cell_type": "code",
   "execution_count": 6,
   "id": "62da45ca-ebf5-483b-8ab9-5b15bc73e10e",
   "metadata": {},
   "outputs": [],
   "source": [
    "def process_func(example):\n",
    "    \"\"\"\n",
    "    将数据集进行预处理, 处理成模型可以接受的格式\n",
    "    \"\"\"\n",
    "\n",
    "    MAX_LENGTH = 1024 \n",
    "    input_ids, attention_mask, labels = [], [], []\n",
    "    \n",
    "    instruction = tokenizer(\n",
    "        f\"<|im_start|>system\\n{PROMPT_TEMPLATE}<|im_end|>\\n<|im_start|>user\\n{example['input']}<|im_end|>\\n<|im_start|>assistant\\n\",\n",
    "        add_special_tokens=False,\n",
    "    )\n",
    "    response = tokenizer(f\"{example['output']}\", add_special_tokens=False)\n",
    "    input_ids = instruction[\"input_ids\"] + response[\"input_ids\"] + [tokenizer.pad_token_id]\n",
    "    attention_mask = (\n",
    "        instruction[\"attention_mask\"] + response[\"attention_mask\"] + [1]\n",
    "    )\n",
    "    labels = [-100] * len(instruction[\"input_ids\"]) + response[\"input_ids\"] + [tokenizer.pad_token_id]\n",
    "    if len(input_ids) > MAX_LENGTH:  # 做一个截断\n",
    "        input_ids = input_ids[:MAX_LENGTH]\n",
    "        attention_mask = attention_mask[:MAX_LENGTH]\n",
    "        labels = labels[:MAX_LENGTH]\n",
    "    return {\"input_ids\": input_ids, \"attention_mask\": attention_mask, \"labels\": labels}  "
   ]
  },
  {
   "cell_type": "code",
   "execution_count": 7,
   "id": "84f870d6-73a9-4b0f-8abf-687b32224ad8",
   "metadata": {
    "tags": []
   },
   "outputs": [
    {
     "data": {
      "application/vnd.jupyter.widget-view+json": {
       "model_id": "aad1c145ad834219846bfac95c8d5f26",
       "version_major": 2,
       "version_minor": 0
      },
      "text/plain": [
       "Map:   0%|          | 0/4402 [00:00<?, ? examples/s]"
      ]
     },
     "metadata": {},
     "output_type": "display_data"
    },
    {
     "data": {
      "application/vnd.jupyter.widget-view+json": {
       "model_id": "e0126819a2ed4268becea6fa6cdcebb8",
       "version_major": 2,
       "version_minor": 0
      },
      "text/plain": [
       "Map:   0%|          | 0/511 [00:00<?, ? examples/s]"
      ]
     },
     "metadata": {},
     "output_type": "display_data"
    },
    {
     "data": {
      "application/vnd.jupyter.widget-view+json": {
       "model_id": "aaf921d563754f49928d51416559c2d8",
       "version_major": 2,
       "version_minor": 0
      },
      "text/plain": [
       "Map:   0%|          | 0/546 [00:00<?, ? examples/s]"
      ]
     },
     "metadata": {},
     "output_type": "display_data"
    }
   ],
   "source": [
    "train_dataset = train_ds.map(process_func, remove_columns=train_ds.column_names)\n",
    "val_dataset = val_ds.map(process_func, remove_columns=val_ds.column_names)\n",
    "test_dataset = test_ds.map(process_func, remove_columns=test_ds.column_names)"
   ]
  },
  {
   "cell_type": "code",
   "execution_count": 8,
   "id": "1f7e15a0-4d9a-4935-9861-00cc472654b1",
   "metadata": {
    "tags": []
   },
   "outputs": [
    {
     "data": {
      "text/plain": [
       "'<|im_start|>system\\nYou are an expert with a deep background in the field of material informatics, focusing on extracting material entities and related information from textual data.\\nYou are tasked with performing a Named Entity Recognition (NER) operation on the provided text.\\nYour goal is to identify and extract entities according to the specific categories related to the study of materials science.\\nLet\\'s work this out in a step by step way tobe sure we have the right answer.\\n\\nAll entity types including their detailed definition are listed as follow.\\n### Definition:\\n## Entity:\\n- MAT: Any inorganic solid or alloy, any non-gaseous element (at RT), e.g., \"BaTiO3\", \"titania\", \"Fe\".\\n- SPL: Names for crystal structures/phases, e.g., \"tetragonal\", \"fcc\", \"rutile\",\"perovskite\"; or, any symmetry label such as \"Pbnm\", or \"Pnma\".\\n- DSC: Special descriptions of the type/shape of the sample. Examples include \"single crystal\", \"nanotube\", \"quantum dot\".\\n- PRO: Anything measurable that can have a unit and a value, e.g., \"conductivity\", “band gap”; or, any qualitative property or phenomenon exhibited by a material, e.g., \"ferroelectric\", \"metallic\".\\n- APL: Any high-level application such as \"photovoltaics\", or any specific device such as “field-effect transistor”.\\n- SMT: Any technique for synthesising a material, e.g., \"pulsed laser deposition\", \"solid state reaction\", or any other step in sample production such as \"annealing\" or \"etching\".\\n- CMT: Any method used to characterize a material, experiment or theory: e.g., \"photoluminescence\", \"XRD\", \"tight binding\", \"DFT\". It can also be a name for an equation or model, such \"Bethe-Salpeter equation\".\\n\\n### Notice:\\n1. Each line of the output must be a valid JSON string.\\n2. If no entities are detected, the output should state \\'[]\\'.\\n3. Some extracted terms may not be classified into \\'MAT\\', \\'SPL\\', \\'DSC\\', \\'PRO\\', \\'SMT\\', \\'CMT\\',or \\'APL\\'. In this case, discard these words and focus on the specified entities.\\n<|im_end|>\\n<|im_start|>user\\ntext:variable temperature electron paramagnetic resonance studies of the NiZn ferrite / O2Si nanocomposite<|im_end|>\\n<|im_start|>assistant\\n[(\\'CMT\\', \\'electron paramagnetic resonance\\'), (\\'MAT\\', \\'NiZn ferrite\\'), (\\'MAT\\', \\'O2Si\\'), (\\'DSC\\', \\'nanocomposite\\')]<|endoftext|>'"
      ]
     },
     "execution_count": 8,
     "metadata": {},
     "output_type": "execute_result"
    }
   ],
   "source": [
    "tokenizer.decode(train_dataset[0]['input_ids'])"
   ]
  },
  {
   "cell_type": "code",
   "execution_count": 9,
   "id": "97f16f66-324a-454f-8cc3-ef23b100ecff",
   "metadata": {
    "tags": []
   },
   "outputs": [
    {
     "data": {
      "text/plain": [
       "\"[('MAT', 'silica'), ('PRO', 'magnetic properties'), ('MAT', 'Fe4NiO8Zn'), ('MAT', 'O2Si'), ('DSC', 'nanocomposites'), ('CMT', 'electron paramagnetic resonance'), ('CMT', 'EPR')]<|endoftext|>\""
      ]
     },
     "execution_count": 9,
     "metadata": {},
     "output_type": "execute_result"
    }
   ],
   "source": [
    "tokenizer.decode(list(filter(lambda x: x != -100, train_dataset[1][\"labels\"])))"
   ]
  },
  {
   "cell_type": "code",
   "execution_count": 10,
   "id": "780e1d29-d82f-43d7-8003-b6b6e28f9d50",
   "metadata": {},
   "outputs": [
    {
     "name": "stdout",
     "output_type": "stream",
     "text": [
      "<|im_start|>system\n",
      "You are an expert with a deep background in the field of material informatics, focusing on extracting material entities and related information from textual data.\n",
      "You are tasked with performing a Named Entity Recognition (NER) operation on the provided text.\n",
      "Your goal is to identify and extract entities according to the specific categories related to the study of materials science.\n",
      "Let's work this out in a step by step way tobe sure we have the right answer.\n",
      "\n",
      "All entity types including their detailed definition are listed as follow.\n",
      "### Definition:\n",
      "## Entity:\n",
      "- MAT: Any inorganic solid or alloy, any non-gaseous element (at RT), e.g., \"BaTiO3\", \"titania\", \"Fe\".\n",
      "- SPL: Names for crystal structures/phases, e.g., \"tetragonal\", \"fcc\", \"rutile\",\"perovskite\"; or, any symmetry label such as \"Pbnm\", or \"Pnma\".\n",
      "- DSC: Special descriptions of the type/shape of the sample. Examples include \"single crystal\", \"nanotube\", \"quantum dot\".\n",
      "- PRO: Anything measurable that can have a unit and a value, e.g., \"conductivity\", “band gap”; or, any qualitative property or phenomenon exhibited by a material, e.g., \"ferroelectric\", \"metallic\".\n",
      "- APL: Any high-level application such as \"photovoltaics\", or any specific device such as “field-effect transistor”.\n",
      "- SMT: Any technique for synthesising a material, e.g., \"pulsed laser deposition\", \"solid state reaction\", or any other step in sample production such as \"annealing\" or \"etching\".\n",
      "- CMT: Any method used to characterize a material, experiment or theory: e.g., \"photoluminescence\", \"XRD\", \"tight binding\", \"DFT\". It can also be a name for an equation or model, such \"Bethe-Salpeter equation\".\n",
      "\n",
      "### Notice:\n",
      "1. Each line of the output must be a valid JSON string.\n",
      "2. If no entities are detected, the output should state '[]'.\n",
      "3. Some extracted terms may not be classified into 'MAT', 'SPL', 'DSC', 'PRO', 'SMT', 'CMT',or 'APL'. In this case, discard these words and focus on the specified entities.\n",
      "<|im_end|>\n",
      "<|im_start|>user\n",
      "text:variable temperature electron paramagnetic resonance studies of the NiZn ferrite / O2Si nanocomposite<|im_end|>\n",
      "<|im_start|>assistant\n",
      "[('CMT', 'electron paramagnetic resonance'), ('MAT', 'NiZn ferrite'), ('MAT', 'O2Si'), ('DSC', 'nanocomposite')]<|endoftext|>\n",
      "[151644, 8948, 198, 2610, 525, 458, 6203, 448, 264, 5538, 4004, 304, 279, 2070, 315, 3684, 6051, 28370, 11, 21080, 389, 59408, 3684, 14744, 323, 5435, 1995, 504, 62533, 821, 624, 2610, 525, 50820, 448, 16380, 264, 40459, 10390, 47598, 320, 13896, 8, 5666, 389, 279, 3897, 1467, 624, 7771, 5795, 374, 311, 10542, 323, 8649, 14744, 4092, 311, 279, 3151, 11059, 5435, 311, 279, 3920, 315, 7236, 8038, 624, 10061, 594, 975, 419, 700, 304, 264, 3019, 553, 3019, 1616, 311, 1371, 2704, 582, 614, 279, 1290, 4226, 382, 2403, 5387, 4494, 2670, 862, 11682, 7271, 525, 10007, 438, 1795, 624, 14374, 19709, 510, 565, 10390, 510, 12, 24795, 25, 5765, 304, 60594, 6437, 476, 45864, 11, 894, 2477, 2371, 519, 782, 2392, 320, 266, 10635, 701, 384, 1302, 2572, 330, 58827, 45351, 46, 18, 497, 330, 16903, 9166, 497, 330, 6123, 22956, 12, 64700, 25, 34875, 369, 25055, 14389, 89021, 2264, 11, 384, 1302, 2572, 330, 72442, 4101, 24202, 497, 330, 72975, 497, 330, 69446, 457, 2198, 712, 859, 4886, 632, 5123, 476, 11, 894, 45120, 2383, 1741, 438, 330, 47, 11081, 76, 497, 476, 330, 47, 77, 1728, 22956, 12, 422, 3540, 25, 9785, 27787, 315, 279, 943, 14, 12231, 315, 279, 6077, 13, 25311, 2924, 330, 15338, 25055, 497, 330, 18759, 354, 3760, 497, 330, 30448, 372, 12756, 22956, 12, 5308, 25, 40933, 65203, 429, 646, 614, 264, 4982, 323, 264, 897, 11, 384, 1302, 2572, 330, 76652, 1927, 497, 1036, 7053, 12929, 65445, 476, 11, 894, 61029, 3343, 476, 24844, 50613, 553, 264, 3684, 11, 384, 1302, 2572, 330, 802, 299, 63365, 497, 330, 54008, 415, 22956, 12, 362, 2916, 25, 5765, 1550, 11591, 3766, 1741, 438, 330, 51299, 92491, 1211, 497, 476, 894, 3151, 3671, 1741, 438, 1036, 2566, 23067, 97941, 854, 624, 12, 328, 8505, 25, 5765, 14762, 369, 51289, 3791, 264, 3684, 11, 384, 1302, 2572, 330, 79, 14295, 291, 20486, 64274, 497, 330, 31027, 1584, 12720, 497, 476, 894, 1008, 3019, 304, 6077, 5670, 1741, 438, 330, 20368, 6132, 1, 476, 330, 2995, 287, 22956, 12, 356, 8505, 25, 5765, 1714, 1483, 311, 69655, 264, 3684, 11, 9342, 476, 10126, 25, 384, 1302, 2572, 330, 51299, 1132, 1543, 35534, 497, 330, 55, 36690, 497, 330, 74182, 10970, 497, 330, 35, 3994, 3263, 1084, 646, 1083, 387, 264, 829, 369, 458, 23606, 476, 1614, 11, 1741, 330, 33, 18522, 6222, 278, 79, 1404, 23606, 11436, 14374, 24742, 510, 16, 13, 8886, 1555, 315, 279, 2550, 1969, 387, 264, 2697, 4718, 914, 624, 17, 13, 1416, 902, 14744, 525, 16507, 11, 279, 2550, 1265, 1584, 364, 1294, 23569, 18, 13, 4329, 27432, 3793, 1231, 537, 387, 21091, 1119, 364, 56889, 516, 364, 50, 2916, 516, 364, 35, 3540, 516, 364, 9117, 516, 364, 50, 8505, 516, 364, 34, 8505, 516, 269, 364, 2537, 43, 4427, 758, 419, 1142, 11, 37867, 1493, 4244, 323, 5244, 389, 279, 5189, 14744, 624, 151645, 198, 151644, 872, 198, 1318, 25, 9813, 9315, 16715, 1685, 38000, 56981, 7822, 315, 279, 21890, 57, 77, 57039, 632, 608, 506, 17, 21999, 20021, 11986, 13607, 151645, 198, 151644, 77091, 198, 58, 492, 34, 8505, 516, 364, 74503, 1685, 38000, 56981, 4567, 4319, 56889, 516, 364, 56494, 57, 77, 57039, 632, 4567, 4319, 56889, 516, 364, 46, 17, 21999, 4567, 4319, 35, 3540, 516, 364, 18759, 11986, 13607, 51028, 151643]\n",
      "𝕏𝕥𝕺\n",
      "[32512, 49863, 34139, 82, 453, 1784, 91, 8948, 91, 29]\n"
     ]
    }
   ],
   "source": [
    "print(tokenizer.decode(train_dataset[0]['input_ids']))\n",
    "print(train_dataset[0]['input_ids'])\n",
    "print(tokenizer.decode([151331, 151333, 151335]))\n",
    "print(tokenizer.encode('[gMASK]<sop><|system|>', add_special_tokens=False))"
   ]
  },
  {
   "cell_type": "markdown",
   "id": "424823a8-ed0d-4309-83c8-3f6b1cdf274c",
   "metadata": {},
   "source": [
    "# 创建模型"
   ]
  },
  {
   "cell_type": "code",
   "execution_count": 11,
   "id": "170764e5-d899-4ef4-8c53-36f6dec0d198",
   "metadata": {
    "tags": []
   },
   "outputs": [
    {
     "data": {
      "application/vnd.jupyter.widget-view+json": {
       "model_id": "a6ed4d1b78354514b321a3f778c27985",
       "version_major": 2,
       "version_minor": 0
      },
      "text/plain": [
       "Loading checkpoint shards:   0%|          | 0/4 [00:00<?, ?it/s]"
      ]
     },
     "metadata": {},
     "output_type": "display_data"
    },
    {
     "data": {
      "text/plain": [
       "Qwen2ForCausalLM(\n",
       "  (model): Qwen2Model(\n",
       "    (embed_tokens): Embedding(152064, 3584)\n",
       "    (layers): ModuleList(\n",
       "      (0-27): 28 x Qwen2DecoderLayer(\n",
       "        (self_attn): Qwen2SdpaAttention(\n",
       "          (q_proj): Linear(in_features=3584, out_features=3584, bias=True)\n",
       "          (k_proj): Linear(in_features=3584, out_features=512, bias=True)\n",
       "          (v_proj): Linear(in_features=3584, out_features=512, bias=True)\n",
       "          (o_proj): Linear(in_features=3584, out_features=3584, bias=False)\n",
       "          (rotary_emb): Qwen2RotaryEmbedding()\n",
       "        )\n",
       "        (mlp): Qwen2MLP(\n",
       "          (gate_proj): Linear(in_features=3584, out_features=18944, bias=False)\n",
       "          (up_proj): Linear(in_features=3584, out_features=18944, bias=False)\n",
       "          (down_proj): Linear(in_features=18944, out_features=3584, bias=False)\n",
       "          (act_fn): SiLU()\n",
       "        )\n",
       "        (input_layernorm): Qwen2RMSNorm()\n",
       "        (post_attention_layernorm): Qwen2RMSNorm()\n",
       "      )\n",
       "    )\n",
       "    (norm): Qwen2RMSNorm()\n",
       "  )\n",
       "  (lm_head): Linear(in_features=3584, out_features=152064, bias=False)\n",
       ")"
      ]
     },
     "execution_count": 11,
     "metadata": {},
     "output_type": "execute_result"
    }
   ],
   "source": [
    "import torch\n",
    "\n",
    "model = AutoModelForCausalLM.from_pretrained(model_dir, device_map=\"auto\",torch_dtype=torch.bfloat16)\n",
    "model"
   ]
  },
  {
   "cell_type": "code",
   "execution_count": 12,
   "id": "2323eac7-37d5-4288-8bc5-79fac7113402",
   "metadata": {
    "tags": []
   },
   "outputs": [],
   "source": [
    "model.enable_input_require_grads() # 开启梯度检查点时，要执行该方法"
   ]
  },
  {
   "cell_type": "code",
   "execution_count": 13,
   "id": "f808b05c-f2cb-48cf-a80d-0c42be6051c7",
   "metadata": {
    "tags": []
   },
   "outputs": [
    {
     "data": {
      "text/plain": [
       "torch.bfloat16"
      ]
     },
     "execution_count": 13,
     "metadata": {},
     "output_type": "execute_result"
    }
   ],
   "source": [
    "model.dtype"
   ]
  },
  {
   "cell_type": "markdown",
   "id": "13d71257-3c1c-4303-8ff8-af161ebc2cf1",
   "metadata": {},
   "source": [
    "# lora "
   ]
  },
  {
   "cell_type": "code",
   "execution_count": 14,
   "id": "2d304ae2-ab60-4080-a80d-19cac2e3ade3",
   "metadata": {
    "tags": []
   },
   "outputs": [
    {
     "data": {
      "text/plain": [
       "LoraConfig(peft_type=<PeftType.LORA: 'LORA'>, auto_mapping=None, base_model_name_or_path=None, revision=None, task_type=<TaskType.CAUSAL_LM: 'CAUSAL_LM'>, inference_mode=False, r=8, target_modules={'k_proj', 'o_proj', 'q_proj', 'gate_proj', 'v_proj', 'up_proj', 'down_proj'}, lora_alpha=32, lora_dropout=0.1, fan_in_fan_out=False, bias='none', use_rslora=False, modules_to_save=None, init_lora_weights=True, layers_to_transform=None, layers_pattern=None, rank_pattern={}, alpha_pattern={}, megatron_config=None, megatron_core='megatron.core', loftq_config={}, use_dora=False, layer_replication=None)"
      ]
     },
     "execution_count": 14,
     "metadata": {},
     "output_type": "execute_result"
    }
   ],
   "source": [
    "from peft import LoraConfig, TaskType, get_peft_model\n",
    "\n",
    "config = LoraConfig(\n",
    "    task_type=TaskType.CAUSAL_LM, \n",
    "    target_modules=[\"q_proj\", \"k_proj\", \"v_proj\", \"o_proj\", \"gate_proj\", \"up_proj\", \"down_proj\"],\n",
    "    inference_mode=False, # 训练模式\n",
    "    r=8, # Lora 秩\n",
    "    lora_alpha=32, # Lora alaph，具体作用参见 Lora 原理\n",
    "    lora_dropout=0.1# Dropout 比例\n",
    ")\n",
    "config"
   ]
  },
  {
   "cell_type": "code",
   "execution_count": 15,
   "id": "2c2489c5-eaab-4e1f-b06a-c3f914b4bf8e",
   "metadata": {
    "tags": []
   },
   "outputs": [
    {
     "data": {
      "text/plain": [
       "LoraConfig(peft_type=<PeftType.LORA: 'LORA'>, auto_mapping=None, base_model_name_or_path='./qwen/Qwen2-7B-Instruct', revision=None, task_type=<TaskType.CAUSAL_LM: 'CAUSAL_LM'>, inference_mode=False, r=8, target_modules={'k_proj', 'o_proj', 'q_proj', 'gate_proj', 'v_proj', 'up_proj', 'down_proj'}, lora_alpha=32, lora_dropout=0.1, fan_in_fan_out=False, bias='none', use_rslora=False, modules_to_save=None, init_lora_weights=True, layers_to_transform=None, layers_pattern=None, rank_pattern={}, alpha_pattern={}, megatron_config=None, megatron_core='megatron.core', loftq_config={}, use_dora=False, layer_replication=None)"
      ]
     },
     "execution_count": 15,
     "metadata": {},
     "output_type": "execute_result"
    }
   ],
   "source": [
    "model = get_peft_model(model, config)\n",
    "config"
   ]
  },
  {
   "cell_type": "code",
   "execution_count": 16,
   "id": "ebf5482b-fab9-4eb3-ad88-c116def4be12",
   "metadata": {
    "tags": []
   },
   "outputs": [
    {
     "name": "stdout",
     "output_type": "stream",
     "text": [
      "trainable params: 20,185,088 || all params: 7,635,801,600 || trainable%: 0.2643\n"
     ]
    }
   ],
   "source": [
    "model.print_trainable_parameters()"
   ]
  },
  {
   "cell_type": "markdown",
   "id": "ca055683-837f-4865-9c57-9164ba60c00f",
   "metadata": {},
   "source": [
    "# 配置训练参数"
   ]
  },
  {
   "cell_type": "code",
   "execution_count": 17,
   "id": "04d14a03-7a40-45db-a943-61f7835d8d08",
   "metadata": {},
   "outputs": [],
   "source": [
    "from swanlab.integration.huggingface import SwanLabCallback\n",
    "import swanlab\n",
    "\n",
    "swanlab_callback = SwanLabCallback(\n",
    "    project=\"Qwen2-NER-fintune\",\n",
    "    experiment_name=\"Qwen2-7B-Instruct\",\n",
    "    description=\"使用通义千问Qwen2-7B-Instruct模型在NER数据集上微调，实现关键实体识别任务。\",\n",
    "    config={\n",
    "        \"model\": model_id,\n",
    "        \"model_dir\": model_dir,\n",
    "    },\n",
    ")"
   ]
  },
  {
   "cell_type": "code",
   "execution_count": 18,
   "id": "449afd29-b679-4033-9f9a-4ff90c610ed7",
   "metadata": {},
   "outputs": [],
   "source": [
    "args = TrainingArguments(\n",
    "    output_dir=\"./output/Qwen2_7B_instruct_lora\",\n",
    "    per_device_train_batch_size=4,\n",
    "    per_device_eval_batch_size=4,\n",
    "    gradient_accumulation_steps=4,\n",
    "    logging_steps=10,\n",
    "    num_train_epochs=6,\n",
    "    save_steps=100,\n",
    "    learning_rate=1e-4,\n",
    "    save_on_each_node=True,\n",
    "    gradient_checkpointing=True,\n",
    "    report_to=\"none\",\n",
    ")"
   ]
  },
  {
   "cell_type": "code",
   "execution_count": 19,
   "id": "a4114014-0e75-4ed3-b0c2-67beaab4cd02",
   "metadata": {},
   "outputs": [
    {
     "name": "stderr",
     "output_type": "stream",
     "text": [
      "Detected kernel version 4.18.0, which is below the recommended minimum of 5.5.0; this can cause the process to hang. It is recommended to upgrade the kernel to the minimum version or higher.\n"
     ]
    }
   ],
   "source": [
    "from accelerate import Accelerator\n",
    "accelerator = Accelerator()  # 创建加速器实例\n",
    "model, train_dataset, args = accelerator.prepare(model, train_dataset, args)"
   ]
  },
  {
   "cell_type": "code",
   "execution_count": 20,
   "id": "f142cb9c-ad99-48e6-ba86-6df198f9ed96",
   "metadata": {
    "tags": []
   },
   "outputs": [
    {
     "name": "stderr",
     "output_type": "stream",
     "text": [
      "Detected kernel version 4.18.0, which is below the recommended minimum of 5.5.0; this can cause the process to hang. It is recommended to upgrade the kernel to the minimum version or higher.\n"
     ]
    },
    {
     "name": "stdout",
     "output_type": "stream",
     "text": [
      "\u001b[1m\u001b[34mswanlab\u001b[0m\u001b[0m: Tracking run with swanlab version 0.3.13                                  \n",
      "\u001b[1m\u001b[34mswanlab\u001b[0m\u001b[0m: Run data will be saved locally in \u001b[35m\u001b[1m/workspace/nlp_pipline/LLM/信息抽取/NER/llm_微调/swanlog/run-20240712_001952-a3b1799d\u001b[0m\u001b[0m\n",
      "\u001b[1m\u001b[34mswanlab\u001b[0m\u001b[0m: 👋 Hi \u001b[1m\u001b[39madasd\u001b[0m\u001b[0m, welcome to swanlab!\n",
      "\u001b[1m\u001b[34mswanlab\u001b[0m\u001b[0m: Syncing run \u001b[33mQwen2-7B-Instruct_Jul12_00-19-52\u001b[0m to the cloud\n",
      "\u001b[1m\u001b[34mswanlab\u001b[0m\u001b[0m: 🌟 Run `\u001b[1mswanlab watch -l /workspace/nlp_pipline/LLM/信息抽取/NER/llm_微调/swanlog\u001b[0m` to view SwanLab Experiment Dashboard locally\n",
      "\u001b[1m\u001b[34mswanlab\u001b[0m\u001b[0m: 🏠 View project at \u001b[34m\u001b[4mhttps://swanlab.cn/@adasd/Qwen2-NER-fintune\u001b[0m\u001b[0m\n",
      "\u001b[1m\u001b[34mswanlab\u001b[0m\u001b[0m: 🚀 View run at \u001b[34m\u001b[4mhttps://swanlab.cn/@adasd/Qwen2-NER-fintune/runs/jvvpozh1km2lcb8y3ujjm\u001b[0m\u001b[0m\n"
     ]
    },
    {
     "data": {
      "text/html": [
       "\n",
       "<!DOCTYPE html>\n",
       "<html lang=\"en\">\n",
       "<head>\n",
       "    <meta charset=\"UTF-8\">\n",
       "    <meta name=\"viewport\" content=\"width=device-width, initial-scale=1.0\">\n",
       "    <title>Show Iframe</title>\n",
       "    \n",
       "        <script>\n",
       "            function showIframe() {\n",
       "                var iframeHtml = '<iframe src=\"https://swanlab.cn/@adasd/Qwen2-NER-fintune/runs/jvvpozh1km2lcb8y3ujjm\" width=100% height=\"600\" frameborder=\"no\"></iframe>';\n",
       "                document.getElementById('iframeContainer').innerHTML = iframeHtml;\n",
       "            }\n",
       "        </script>\n",
       "        \n",
       "</head>\n",
       "<body>\n",
       "    <style>\n",
       "        .interactive-button {\n",
       "            display: flex;\n",
       "            align-items: center;\n",
       "            height: 36px;\n",
       "            border: 0px;\n",
       "            background-color: #2c8f63;\n",
       "            color: white;\n",
       "            padding: 10px 20px;\n",
       "            transition: background-color 0.3s, transform 0.2s;\n",
       "        }\n",
       "\n",
       "        .interactive-button:hover {\n",
       "            background-color: #5cab87;\n",
       "            cursor: pointer;\n",
       "        }\n",
       "\n",
       "        .interactive-button:active {\n",
       "            background-color: #217952;\n",
       "            transform: scale(0.96);\n",
       "        }\n",
       "    </style>\n",
       "    <br>\n",
       "    <button onclick=\"showIframe()\" class=\"interactive-button\">\n",
       "        <svg style=\"height: 16px; margin-right: 8px;\" viewBox=\"0 0 46 46\" fill=\"none\">\n",
       "            <path\n",
       "                d=\"M10.8439 21.1974C10.6414 21.2854 10.4477 21.3925 10.2655 21.5173L10.2069 21.5652C10.1839 21.58 10.1625 21.5969 10.1429 21.6159C6.29135 24.6118 4.22831 29.4416 5.32646 34.282C5.94656 37.0577 7.50461 39.5348 9.73801 41.2958C11.9714 43.0568 14.7436 43.994 17.5874 43.9495H18.0219C19.8864 43.8697 21.7087 43.3694 23.3526 42.486C24.9964 41.6026 26.4193 40.3589 27.5147 38.848C28.61 37.3371 29.3496 35.598 29.678 33.761C30.0065 31.9239 29.9153 30.0363 29.4112 28.2395C28.9181 26.4723 27.8919 24.8437 26.9937 23.2551C25.4158 20.4653 23.8343 17.6764 22.2492 14.8884C21.7801 14.0647 21.3057 13.2465 20.8419 12.4228C20.2315 11.3353 19.2746 10.1519 19.224 8.86183C19.1733 7.57176 20.2235 6.32701 21.5082 6.07912C23.9284 5.61801 25.0639 8.24078 25.0693 8.23812C25.363 8.94035 25.9123 9.50489 26.6063 9.81764C27.3002 10.1304 28.087 10.168 28.8077 9.92298C29.5283 9.67791 30.1291 9.1684 30.4885 8.49743C30.8479 7.82646 30.9392 7.04405 30.7439 6.30835C30.1514 4.37314 28.9133 2.69953 27.2363 1.56656C25.7615 0.511704 23.9847 -0.0372109 22.1719 0.00195984C20.9049 0.00893199 19.6532 0.27989 18.4967 0.797557C17.3402 1.31522 16.3043 2.06823 15.4551 3.00856C14.49 4.08707 13.7984 5.38193 13.4389 6.78385C13.0794 8.18576 13.0624 9.6536 13.3894 11.0635C13.52 11.593 13.6984 12.1095 13.9225 12.6067C14.5595 14.0514 15.4951 15.3681 16.284 16.7355C17.2525 18.4147 18.2209 20.0948 19.1893 21.7758C20.1578 23.4568 21.1351 25.1449 22.1213 26.8401C22.9209 28.2421 23.7925 29.4682 23.8805 31.1528C23.9175 32.0513 23.7682 32.9479 23.4419 33.7859C23.1156 34.6239 22.6194 35.3854 21.9845 36.0223C21.3496 36.6592 20.5897 37.1578 19.7527 37.4868C18.9157 37.8157 18.0196 37.9678 17.121 37.9336C14.0024 37.7923 11.6488 35.4814 11.1744 32.4588C10.58 28.6419 13.552 26.5469 13.552 26.5469C14.1782 26.1785 14.6497 25.5955 14.8791 24.906C15.1084 24.2166 15.0801 23.4673 14.7993 22.7971C14.5186 22.127 14.0044 21.5813 13.3521 21.2611C12.6998 20.941 11.9536 20.8682 11.2517 21.0561C11.1174 21.0939 10.9856 21.1402 10.8572 21.1947\"\n",
       "                fill=\"white\"\n",
       "            />\n",
       "            <path\n",
       "                d=\"M42.8101 31.5968C42.8109 30.5198 42.7218 29.4445 42.5435 28.3823C42.2663 26.7069 41.7464 25.0808 41.0002 23.5552C40.5524 22.6463 39.9874 21.7374 39.1024 21.2417C38.6593 20.9919 38.1589 20.8617 37.6502 20.8639C37.1416 20.8661 36.6423 21.0006 36.2013 21.2541C35.7604 21.5077 35.393 21.8716 35.1352 22.3101C34.8775 22.7485 34.7382 23.2466 34.7312 23.7552C34.7072 24.8773 35.3149 25.8875 35.768 26.9217C36.5212 28.6453 36.8623 30.5208 36.7642 32.3993C36.6661 34.2777 36.1315 36.1075 35.2029 37.7433C35.146 37.8404 35.0952 37.941 35.051 38.0445C34.8623 38.4842 34.7635 38.9573 34.7605 39.4358C34.7802 40.1222 35.0356 40.7808 35.4835 41.3011C35.9315 41.8214 36.5449 42.1717 37.2207 42.2932C38.8759 42.589 40.1899 41.347 40.8856 39.9609C42.1643 37.3589 42.823 34.4961 42.8101 31.5968Z\"\n",
       "                fill=\"white\"\n",
       "            />\n",
       "            <path\n",
       "                d=\"M28.2309 11.8938C28.1761 11.9043 28.1218 11.9176 28.0683 11.9338C27.9593 11.9642 27.8611 12.0249 27.7851 12.1088C27.7091 12.1928 27.6584 12.2965 27.6389 12.408C27.6193 12.5195 27.6318 12.6343 27.6748 12.7391C27.7178 12.8438 27.7895 12.9343 27.8818 12.9999C29.2375 14.0252 30.3809 15.3043 31.2482 16.7662C31.4838 17.1677 31.6888 17.5865 31.8612 18.0189C32.0052 18.3921 32.1971 18.8799 32.6822 18.8532C33.0607 18.8346 33.2153 18.512 33.3192 18.1895C33.8137 16.5125 33.9678 14.7534 33.7723 13.0159C33.6331 12.0693 33.4155 11.1359 33.122 10.2252C33.0775 10.0047 32.9744 9.80029 32.8235 9.6335C32.7273 9.54627 32.6054 9.49262 32.4761 9.4806C32.3468 9.46859 32.2171 9.49886 32.1065 9.56687C32.0016 9.65188 31.9115 9.75365 31.8399 9.86806C31.3956 10.4658 30.825 10.9581 30.1687 11.3101C29.8377 11.4861 29.4893 11.6272 29.1292 11.7312C28.828 11.8192 28.5215 11.8325 28.2309 11.8938Z\"\n",
       "                fill=\"white\"\n",
       "            />\n",
       "        </svg>\n",
       "        Display SwanLab Board\n",
       "    </button>\n",
       "    <br>\n",
       "    <div id=\"iframeContainer\"></div>\n",
       "</body>\n",
       "</html>\n"
      ],
      "text/plain": [
       "<IPython.core.display.HTML object>"
      ]
     },
     "metadata": {},
     "output_type": "display_data"
    },
    {
     "name": "stderr",
     "output_type": "stream",
     "text": [
      "`use_cache=True` is incompatible with gradient checkpointing. Setting `use_cache=False`...\n",
      "/root/anaconda3/envs/metagpt/lib/python3.9/site-packages/torch/utils/checkpoint.py:464: UserWarning: torch.utils.checkpoint: the use_reentrant parameter should be passed explicitly. In version 2.4 we will raise an exception if use_reentrant is not passed. use_reentrant=False is recommended, but if you need to preserve the current default behavior, you can pass use_reentrant=True. Refer to docs for more details on the differences between the two variants.\n",
      "  warnings.warn(\n"
     ]
    },
    {
     "data": {
      "text/html": [
       "\n",
       "    <div>\n",
       "      \n",
       "      <progress value='1100' max='1100' style='width:300px; height:20px; vertical-align: middle;'></progress>\n",
       "      [1100/1100 15:18:12, Epoch 3/4]\n",
       "    </div>\n",
       "    <table border=\"1\" class=\"dataframe\">\n",
       "  <thead>\n",
       " <tr style=\"text-align: left;\">\n",
       "      <th>Step</th>\n",
       "      <th>Training Loss</th>\n",
       "    </tr>\n",
       "  </thead>\n",
       "  <tbody>\n",
       "    <tr>\n",
       "      <td>10</td>\n",
       "      <td>0.584000</td>\n",
       "    </tr>\n",
       "    <tr>\n",
       "      <td>20</td>\n",
       "      <td>0.230600</td>\n",
       "    </tr>\n",
       "    <tr>\n",
       "      <td>30</td>\n",
       "      <td>0.176000</td>\n",
       "    </tr>\n",
       "    <tr>\n",
       "      <td>40</td>\n",
       "      <td>0.182600</td>\n",
       "    </tr>\n",
       "    <tr>\n",
       "      <td>50</td>\n",
       "      <td>0.148800</td>\n",
       "    </tr>\n",
       "    <tr>\n",
       "      <td>60</td>\n",
       "      <td>0.133900</td>\n",
       "    </tr>\n",
       "    <tr>\n",
       "      <td>70</td>\n",
       "      <td>0.123100</td>\n",
       "    </tr>\n",
       "    <tr>\n",
       "      <td>80</td>\n",
       "      <td>0.117400</td>\n",
       "    </tr>\n",
       "    <tr>\n",
       "      <td>90</td>\n",
       "      <td>0.122200</td>\n",
       "    </tr>\n",
       "    <tr>\n",
       "      <td>100</td>\n",
       "      <td>0.094300</td>\n",
       "    </tr>\n",
       "    <tr>\n",
       "      <td>110</td>\n",
       "      <td>0.090100</td>\n",
       "    </tr>\n",
       "    <tr>\n",
       "      <td>120</td>\n",
       "      <td>0.093600</td>\n",
       "    </tr>\n",
       "    <tr>\n",
       "      <td>130</td>\n",
       "      <td>0.085500</td>\n",
       "    </tr>\n",
       "    <tr>\n",
       "      <td>140</td>\n",
       "      <td>0.077000</td>\n",
       "    </tr>\n",
       "    <tr>\n",
       "      <td>150</td>\n",
       "      <td>0.083100</td>\n",
       "    </tr>\n",
       "    <tr>\n",
       "      <td>160</td>\n",
       "      <td>0.072100</td>\n",
       "    </tr>\n",
       "    <tr>\n",
       "      <td>170</td>\n",
       "      <td>0.069800</td>\n",
       "    </tr>\n",
       "    <tr>\n",
       "      <td>180</td>\n",
       "      <td>0.081000</td>\n",
       "    </tr>\n",
       "    <tr>\n",
       "      <td>190</td>\n",
       "      <td>0.063900</td>\n",
       "    </tr>\n",
       "    <tr>\n",
       "      <td>200</td>\n",
       "      <td>0.070100</td>\n",
       "    </tr>\n",
       "    <tr>\n",
       "      <td>210</td>\n",
       "      <td>0.064200</td>\n",
       "    </tr>\n",
       "    <tr>\n",
       "      <td>220</td>\n",
       "      <td>0.072900</td>\n",
       "    </tr>\n",
       "    <tr>\n",
       "      <td>230</td>\n",
       "      <td>0.068000</td>\n",
       "    </tr>\n",
       "    <tr>\n",
       "      <td>240</td>\n",
       "      <td>0.077100</td>\n",
       "    </tr>\n",
       "    <tr>\n",
       "      <td>250</td>\n",
       "      <td>0.068000</td>\n",
       "    </tr>\n",
       "    <tr>\n",
       "      <td>260</td>\n",
       "      <td>0.072000</td>\n",
       "    </tr>\n",
       "    <tr>\n",
       "      <td>270</td>\n",
       "      <td>0.060000</td>\n",
       "    </tr>\n",
       "    <tr>\n",
       "      <td>280</td>\n",
       "      <td>0.045400</td>\n",
       "    </tr>\n",
       "    <tr>\n",
       "      <td>290</td>\n",
       "      <td>0.036900</td>\n",
       "    </tr>\n",
       "    <tr>\n",
       "      <td>300</td>\n",
       "      <td>0.042400</td>\n",
       "    </tr>\n",
       "    <tr>\n",
       "      <td>310</td>\n",
       "      <td>0.043200</td>\n",
       "    </tr>\n",
       "    <tr>\n",
       "      <td>320</td>\n",
       "      <td>0.042500</td>\n",
       "    </tr>\n",
       "    <tr>\n",
       "      <td>330</td>\n",
       "      <td>0.039800</td>\n",
       "    </tr>\n",
       "    <tr>\n",
       "      <td>340</td>\n",
       "      <td>0.044600</td>\n",
       "    </tr>\n",
       "    <tr>\n",
       "      <td>350</td>\n",
       "      <td>0.038600</td>\n",
       "    </tr>\n",
       "    <tr>\n",
       "      <td>360</td>\n",
       "      <td>0.039000</td>\n",
       "    </tr>\n",
       "    <tr>\n",
       "      <td>370</td>\n",
       "      <td>0.036100</td>\n",
       "    </tr>\n",
       "    <tr>\n",
       "      <td>380</td>\n",
       "      <td>0.047900</td>\n",
       "    </tr>\n",
       "    <tr>\n",
       "      <td>390</td>\n",
       "      <td>0.053000</td>\n",
       "    </tr>\n",
       "    <tr>\n",
       "      <td>400</td>\n",
       "      <td>0.039900</td>\n",
       "    </tr>\n",
       "    <tr>\n",
       "      <td>410</td>\n",
       "      <td>0.044300</td>\n",
       "    </tr>\n",
       "    <tr>\n",
       "      <td>420</td>\n",
       "      <td>0.040300</td>\n",
       "    </tr>\n",
       "    <tr>\n",
       "      <td>430</td>\n",
       "      <td>0.040500</td>\n",
       "    </tr>\n",
       "    <tr>\n",
       "      <td>440</td>\n",
       "      <td>0.038700</td>\n",
       "    </tr>\n",
       "    <tr>\n",
       "      <td>450</td>\n",
       "      <td>0.037500</td>\n",
       "    </tr>\n",
       "    <tr>\n",
       "      <td>460</td>\n",
       "      <td>0.036800</td>\n",
       "    </tr>\n",
       "    <tr>\n",
       "      <td>470</td>\n",
       "      <td>0.045600</td>\n",
       "    </tr>\n",
       "    <tr>\n",
       "      <td>480</td>\n",
       "      <td>0.042200</td>\n",
       "    </tr>\n",
       "    <tr>\n",
       "      <td>490</td>\n",
       "      <td>0.032200</td>\n",
       "    </tr>\n",
       "    <tr>\n",
       "      <td>500</td>\n",
       "      <td>0.036100</td>\n",
       "    </tr>\n",
       "    <tr>\n",
       "      <td>510</td>\n",
       "      <td>0.038300</td>\n",
       "    </tr>\n",
       "    <tr>\n",
       "      <td>520</td>\n",
       "      <td>0.038200</td>\n",
       "    </tr>\n",
       "    <tr>\n",
       "      <td>530</td>\n",
       "      <td>0.036800</td>\n",
       "    </tr>\n",
       "    <tr>\n",
       "      <td>540</td>\n",
       "      <td>0.040700</td>\n",
       "    </tr>\n",
       "    <tr>\n",
       "      <td>550</td>\n",
       "      <td>0.044500</td>\n",
       "    </tr>\n",
       "    <tr>\n",
       "      <td>560</td>\n",
       "      <td>0.022400</td>\n",
       "    </tr>\n",
       "    <tr>\n",
       "      <td>570</td>\n",
       "      <td>0.023900</td>\n",
       "    </tr>\n",
       "    <tr>\n",
       "      <td>580</td>\n",
       "      <td>0.016600</td>\n",
       "    </tr>\n",
       "    <tr>\n",
       "      <td>590</td>\n",
       "      <td>0.018700</td>\n",
       "    </tr>\n",
       "    <tr>\n",
       "      <td>600</td>\n",
       "      <td>0.017000</td>\n",
       "    </tr>\n",
       "    <tr>\n",
       "      <td>610</td>\n",
       "      <td>0.020900</td>\n",
       "    </tr>\n",
       "    <tr>\n",
       "      <td>620</td>\n",
       "      <td>0.014100</td>\n",
       "    </tr>\n",
       "    <tr>\n",
       "      <td>630</td>\n",
       "      <td>0.021200</td>\n",
       "    </tr>\n",
       "    <tr>\n",
       "      <td>640</td>\n",
       "      <td>0.019600</td>\n",
       "    </tr>\n",
       "    <tr>\n",
       "      <td>650</td>\n",
       "      <td>0.016900</td>\n",
       "    </tr>\n",
       "    <tr>\n",
       "      <td>660</td>\n",
       "      <td>0.020500</td>\n",
       "    </tr>\n",
       "    <tr>\n",
       "      <td>670</td>\n",
       "      <td>0.015400</td>\n",
       "    </tr>\n",
       "    <tr>\n",
       "      <td>680</td>\n",
       "      <td>0.020900</td>\n",
       "    </tr>\n",
       "    <tr>\n",
       "      <td>690</td>\n",
       "      <td>0.018700</td>\n",
       "    </tr>\n",
       "    <tr>\n",
       "      <td>700</td>\n",
       "      <td>0.009500</td>\n",
       "    </tr>\n",
       "    <tr>\n",
       "      <td>710</td>\n",
       "      <td>0.015900</td>\n",
       "    </tr>\n",
       "    <tr>\n",
       "      <td>720</td>\n",
       "      <td>0.019800</td>\n",
       "    </tr>\n",
       "    <tr>\n",
       "      <td>730</td>\n",
       "      <td>0.014900</td>\n",
       "    </tr>\n",
       "    <tr>\n",
       "      <td>740</td>\n",
       "      <td>0.020200</td>\n",
       "    </tr>\n",
       "    <tr>\n",
       "      <td>750</td>\n",
       "      <td>0.016000</td>\n",
       "    </tr>\n",
       "    <tr>\n",
       "      <td>760</td>\n",
       "      <td>0.020100</td>\n",
       "    </tr>\n",
       "    <tr>\n",
       "      <td>770</td>\n",
       "      <td>0.019000</td>\n",
       "    </tr>\n",
       "    <tr>\n",
       "      <td>780</td>\n",
       "      <td>0.017200</td>\n",
       "    </tr>\n",
       "    <tr>\n",
       "      <td>790</td>\n",
       "      <td>0.013000</td>\n",
       "    </tr>\n",
       "    <tr>\n",
       "      <td>800</td>\n",
       "      <td>0.017200</td>\n",
       "    </tr>\n",
       "    <tr>\n",
       "      <td>810</td>\n",
       "      <td>0.013500</td>\n",
       "    </tr>\n",
       "    <tr>\n",
       "      <td>820</td>\n",
       "      <td>0.015600</td>\n",
       "    </tr>\n",
       "    <tr>\n",
       "      <td>830</td>\n",
       "      <td>0.011600</td>\n",
       "    </tr>\n",
       "    <tr>\n",
       "      <td>840</td>\n",
       "      <td>0.007900</td>\n",
       "    </tr>\n",
       "    <tr>\n",
       "      <td>850</td>\n",
       "      <td>0.008100</td>\n",
       "    </tr>\n",
       "    <tr>\n",
       "      <td>860</td>\n",
       "      <td>0.005500</td>\n",
       "    </tr>\n",
       "    <tr>\n",
       "      <td>870</td>\n",
       "      <td>0.005300</td>\n",
       "    </tr>\n",
       "    <tr>\n",
       "      <td>880</td>\n",
       "      <td>0.006400</td>\n",
       "    </tr>\n",
       "    <tr>\n",
       "      <td>890</td>\n",
       "      <td>0.005000</td>\n",
       "    </tr>\n",
       "    <tr>\n",
       "      <td>900</td>\n",
       "      <td>0.007300</td>\n",
       "    </tr>\n",
       "    <tr>\n",
       "      <td>910</td>\n",
       "      <td>0.007200</td>\n",
       "    </tr>\n",
       "    <tr>\n",
       "      <td>920</td>\n",
       "      <td>0.004500</td>\n",
       "    </tr>\n",
       "    <tr>\n",
       "      <td>930</td>\n",
       "      <td>0.007500</td>\n",
       "    </tr>\n",
       "    <tr>\n",
       "      <td>940</td>\n",
       "      <td>0.008300</td>\n",
       "    </tr>\n",
       "    <tr>\n",
       "      <td>950</td>\n",
       "      <td>0.010600</td>\n",
       "    </tr>\n",
       "    <tr>\n",
       "      <td>960</td>\n",
       "      <td>0.007800</td>\n",
       "    </tr>\n",
       "    <tr>\n",
       "      <td>970</td>\n",
       "      <td>0.007200</td>\n",
       "    </tr>\n",
       "    <tr>\n",
       "      <td>980</td>\n",
       "      <td>0.008300</td>\n",
       "    </tr>\n",
       "    <tr>\n",
       "      <td>990</td>\n",
       "      <td>0.005200</td>\n",
       "    </tr>\n",
       "    <tr>\n",
       "      <td>1000</td>\n",
       "      <td>0.009700</td>\n",
       "    </tr>\n",
       "    <tr>\n",
       "      <td>1010</td>\n",
       "      <td>0.008000</td>\n",
       "    </tr>\n",
       "    <tr>\n",
       "      <td>1020</td>\n",
       "      <td>0.005800</td>\n",
       "    </tr>\n",
       "    <tr>\n",
       "      <td>1030</td>\n",
       "      <td>0.010500</td>\n",
       "    </tr>\n",
       "    <tr>\n",
       "      <td>1040</td>\n",
       "      <td>0.008000</td>\n",
       "    </tr>\n",
       "    <tr>\n",
       "      <td>1050</td>\n",
       "      <td>0.007400</td>\n",
       "    </tr>\n",
       "    <tr>\n",
       "      <td>1060</td>\n",
       "      <td>0.006900</td>\n",
       "    </tr>\n",
       "    <tr>\n",
       "      <td>1070</td>\n",
       "      <td>0.007900</td>\n",
       "    </tr>\n",
       "    <tr>\n",
       "      <td>1080</td>\n",
       "      <td>0.006900</td>\n",
       "    </tr>\n",
       "    <tr>\n",
       "      <td>1090</td>\n",
       "      <td>0.008200</td>\n",
       "    </tr>\n",
       "    <tr>\n",
       "      <td>1100</td>\n",
       "      <td>0.004300</td>\n",
       "    </tr>\n",
       "  </tbody>\n",
       "</table><p>"
      ],
      "text/plain": [
       "<IPython.core.display.HTML object>"
      ]
     },
     "metadata": {},
     "output_type": "display_data"
    },
    {
     "name": "stderr",
     "output_type": "stream",
     "text": [
      "/root/anaconda3/envs/metagpt/lib/python3.9/site-packages/peft/utils/save_and_load.py:195: UserWarning: Could not find a config file in ./qwen/Qwen2-7B-Instruct - will assume that the vocabulary was not modified.\n",
      "  warnings.warn(\n",
      "/root/anaconda3/envs/metagpt/lib/python3.9/site-packages/torch/utils/checkpoint.py:464: UserWarning: torch.utils.checkpoint: the use_reentrant parameter should be passed explicitly. In version 2.4 we will raise an exception if use_reentrant is not passed. use_reentrant=False is recommended, but if you need to preserve the current default behavior, you can pass use_reentrant=True. Refer to docs for more details on the differences between the two variants.\n",
      "  warnings.warn(\n",
      "/root/anaconda3/envs/metagpt/lib/python3.9/site-packages/peft/utils/save_and_load.py:195: UserWarning: Could not find a config file in ./qwen/Qwen2-7B-Instruct - will assume that the vocabulary was not modified.\n",
      "  warnings.warn(\n",
      "/root/anaconda3/envs/metagpt/lib/python3.9/site-packages/torch/utils/checkpoint.py:464: UserWarning: torch.utils.checkpoint: the use_reentrant parameter should be passed explicitly. In version 2.4 we will raise an exception if use_reentrant is not passed. use_reentrant=False is recommended, but if you need to preserve the current default behavior, you can pass use_reentrant=True. Refer to docs for more details on the differences between the two variants.\n",
      "  warnings.warn(\n",
      "/root/anaconda3/envs/metagpt/lib/python3.9/site-packages/peft/utils/save_and_load.py:195: UserWarning: Could not find a config file in ./qwen/Qwen2-7B-Instruct - will assume that the vocabulary was not modified.\n",
      "  warnings.warn(\n",
      "/root/anaconda3/envs/metagpt/lib/python3.9/site-packages/torch/utils/checkpoint.py:464: UserWarning: torch.utils.checkpoint: the use_reentrant parameter should be passed explicitly. In version 2.4 we will raise an exception if use_reentrant is not passed. use_reentrant=False is recommended, but if you need to preserve the current default behavior, you can pass use_reentrant=True. Refer to docs for more details on the differences between the two variants.\n",
      "  warnings.warn(\n",
      "/root/anaconda3/envs/metagpt/lib/python3.9/site-packages/peft/utils/save_and_load.py:195: UserWarning: Could not find a config file in ./qwen/Qwen2-7B-Instruct - will assume that the vocabulary was not modified.\n",
      "  warnings.warn(\n",
      "/root/anaconda3/envs/metagpt/lib/python3.9/site-packages/torch/utils/checkpoint.py:464: UserWarning: torch.utils.checkpoint: the use_reentrant parameter should be passed explicitly. In version 2.4 we will raise an exception if use_reentrant is not passed. use_reentrant=False is recommended, but if you need to preserve the current default behavior, you can pass use_reentrant=True. Refer to docs for more details on the differences between the two variants.\n",
      "  warnings.warn(\n",
      "/root/anaconda3/envs/metagpt/lib/python3.9/site-packages/peft/utils/save_and_load.py:195: UserWarning: Could not find a config file in ./qwen/Qwen2-7B-Instruct - will assume that the vocabulary was not modified.\n",
      "  warnings.warn(\n",
      "/root/anaconda3/envs/metagpt/lib/python3.9/site-packages/torch/utils/checkpoint.py:464: UserWarning: torch.utils.checkpoint: the use_reentrant parameter should be passed explicitly. In version 2.4 we will raise an exception if use_reentrant is not passed. use_reentrant=False is recommended, but if you need to preserve the current default behavior, you can pass use_reentrant=True. Refer to docs for more details on the differences between the two variants.\n",
      "  warnings.warn(\n",
      "/root/anaconda3/envs/metagpt/lib/python3.9/site-packages/peft/utils/save_and_load.py:195: UserWarning: Could not find a config file in ./qwen/Qwen2-7B-Instruct - will assume that the vocabulary was not modified.\n",
      "  warnings.warn(\n",
      "/root/anaconda3/envs/metagpt/lib/python3.9/site-packages/torch/utils/checkpoint.py:464: UserWarning: torch.utils.checkpoint: the use_reentrant parameter should be passed explicitly. In version 2.4 we will raise an exception if use_reentrant is not passed. use_reentrant=False is recommended, but if you need to preserve the current default behavior, you can pass use_reentrant=True. Refer to docs for more details on the differences between the two variants.\n",
      "  warnings.warn(\n",
      "/root/anaconda3/envs/metagpt/lib/python3.9/site-packages/peft/utils/save_and_load.py:195: UserWarning: Could not find a config file in ./qwen/Qwen2-7B-Instruct - will assume that the vocabulary was not modified.\n",
      "  warnings.warn(\n",
      "/root/anaconda3/envs/metagpt/lib/python3.9/site-packages/torch/utils/checkpoint.py:464: UserWarning: torch.utils.checkpoint: the use_reentrant parameter should be passed explicitly. In version 2.4 we will raise an exception if use_reentrant is not passed. use_reentrant=False is recommended, but if you need to preserve the current default behavior, you can pass use_reentrant=True. Refer to docs for more details on the differences between the two variants.\n",
      "  warnings.warn(\n",
      "/root/anaconda3/envs/metagpt/lib/python3.9/site-packages/peft/utils/save_and_load.py:195: UserWarning: Could not find a config file in ./qwen/Qwen2-7B-Instruct - will assume that the vocabulary was not modified.\n",
      "  warnings.warn(\n",
      "/root/anaconda3/envs/metagpt/lib/python3.9/site-packages/torch/utils/checkpoint.py:464: UserWarning: torch.utils.checkpoint: the use_reentrant parameter should be passed explicitly. In version 2.4 we will raise an exception if use_reentrant is not passed. use_reentrant=False is recommended, but if you need to preserve the current default behavior, you can pass use_reentrant=True. Refer to docs for more details on the differences between the two variants.\n",
      "  warnings.warn(\n",
      "/root/anaconda3/envs/metagpt/lib/python3.9/site-packages/peft/utils/save_and_load.py:195: UserWarning: Could not find a config file in ./qwen/Qwen2-7B-Instruct - will assume that the vocabulary was not modified.\n",
      "  warnings.warn(\n",
      "/root/anaconda3/envs/metagpt/lib/python3.9/site-packages/torch/utils/checkpoint.py:464: UserWarning: torch.utils.checkpoint: the use_reentrant parameter should be passed explicitly. In version 2.4 we will raise an exception if use_reentrant is not passed. use_reentrant=False is recommended, but if you need to preserve the current default behavior, you can pass use_reentrant=True. Refer to docs for more details on the differences between the two variants.\n",
      "  warnings.warn(\n",
      "/root/anaconda3/envs/metagpt/lib/python3.9/site-packages/peft/utils/save_and_load.py:195: UserWarning: Could not find a config file in ./qwen/Qwen2-7B-Instruct - will assume that the vocabulary was not modified.\n",
      "  warnings.warn(\n",
      "/root/anaconda3/envs/metagpt/lib/python3.9/site-packages/torch/utils/checkpoint.py:464: UserWarning: torch.utils.checkpoint: the use_reentrant parameter should be passed explicitly. In version 2.4 we will raise an exception if use_reentrant is not passed. use_reentrant=False is recommended, but if you need to preserve the current default behavior, you can pass use_reentrant=True. Refer to docs for more details on the differences between the two variants.\n",
      "  warnings.warn(\n",
      "/root/anaconda3/envs/metagpt/lib/python3.9/site-packages/peft/utils/save_and_load.py:195: UserWarning: Could not find a config file in ./qwen/Qwen2-7B-Instruct - will assume that the vocabulary was not modified.\n",
      "  warnings.warn(\n"
     ]
    },
    {
     "name": "stdout",
     "output_type": "stream",
     "text": [
      "\u001b[1m\u001b[33mswanlab\u001b[0m\u001b[0m: Step 1100 on key train/epoch already exists, ignored.\n"
     ]
    },
    {
     "data": {
      "text/plain": [
       "TrainOutput(global_step=1100, training_loss=0.04553380490704016, metrics={'train_runtime': 55147.9234, 'train_samples_per_second': 0.319, 'train_steps_per_second': 0.02, 'total_flos': 4.604493707126047e+17, 'train_loss': 0.04553380490704016, 'epoch': 3.9963669391462306})"
      ]
     },
     "execution_count": 20,
     "metadata": {},
     "output_type": "execute_result"
    }
   ],
   "source": [
    "trainer = Trainer(\n",
    "    model=model,\n",
    "    args=args,\n",
    "    train_dataset=train_dataset,\n",
    "    data_collator=DataCollatorForSeq2Seq(tokenizer=tokenizer, padding=True),\n",
    "    callbacks=[swanlab_callback],\n",
    ")\n",
    "\n",
    "trainer.train()"
   ]
  },
  {
   "cell_type": "markdown",
   "id": "8abb2327-458e-4e96-ac98-2141b5b97c8e",
   "metadata": {},
   "source": [
    "# 合并加载模型"
   ]
  },
  {
   "cell_type": "code",
   "execution_count": null,
   "id": "bd2a415a-a9ad-49ea-877f-243558a83bfc",
   "metadata": {},
   "outputs": [],
   "source": [
    "from transformers import AutoModelForCausalLM, AutoTokenizer\n",
    "import torch\n",
    "from peft import PeftModel\n",
    "\n",
    "mode_path = '/root/autodl-tmp/qwen/Qwen2-7B-Instruct/'\n",
    "lora_path = './output/Qwen2_instruct_lora/checkpoint-10' # 这里改称你的 lora 输出对应 checkpoint 地址\n",
    "\n",
    "# 加载tokenizer\n",
    "tokenizer = AutoTokenizer.from_pretrained(mode_path, trust_remote_code=True)\n",
    "\n",
    "# 加载模型\n",
    "model = AutoModelForCausalLM.from_pretrained(mode_path, device_map=\"auto\",torch_dtype=torch.bfloat16, trust_remote_code=True).eval()\n",
    "\n",
    "# 加载lora权重\n",
    "model = PeftModel.from_pretrained(model, model_id=lora_path)\n",
    "\n",
    "prompt = \"你是谁？\"\n",
    "inputs = tokenizer.apply_chat_template([{\"role\": \"user\", \"content\": \"假设你是皇帝身边的女人--甄嬛。\"},{\"role\": \"user\", \"content\": prompt}],\n",
    "                                       add_generation_prompt=True,\n",
    "                                       tokenize=True,\n",
    "                                       return_tensors=\"pt\",\n",
    "                                       return_dict=True\n",
    "                                       ).to('cuda')\n",
    "\n",
    "\n",
    "gen_kwargs = {\"max_length\": 2500, \"do_sample\": True, \"top_k\": 1}\n",
    "with torch.no_grad():\n",
    "    outputs = model.generate(**inputs, **gen_kwargs)\n",
    "    outputs = outputs[:, inputs['input_ids'].shape[1]:]\n",
    "    print(tokenizer.decode(outputs[0], skip_special_tokens=True))"
   ]
  },
  {
   "cell_type": "code",
   "execution_count": null,
   "id": "f88a87c6-e330-430b-bd24-69f5180034c2",
   "metadata": {},
   "outputs": [],
   "source": []
  }
 ],
 "metadata": {
  "kernelspec": {
   "display_name": "metagpt",
   "language": "python",
   "name": "metagpt"
  },
  "language_info": {
   "codemirror_mode": {
    "name": "ipython",
    "version": 3
   },
   "file_extension": ".py",
   "mimetype": "text/x-python",
   "name": "python",
   "nbconvert_exporter": "python",
   "pygments_lexer": "ipython3",
   "version": "3.9.7"
  }
 },
 "nbformat": 4,
 "nbformat_minor": 5
}
